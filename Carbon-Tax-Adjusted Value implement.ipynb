{
 "cells": [
  {
   "cell_type": "code",
   "execution_count": 98,
   "metadata": {},
   "outputs": [],
   "source": [
    "import refinitiv.data as rd\n",
    "import pandas as pd\n",
    "import datetime\n",
    "import numpy as np\n",
    "import cvxpy as cp\n",
    "from dotenv import load_dotenv\n",
    "import os\n",
    "load_dotenv()"
   ]
  },
  {
   "cell_type": "markdown",
   "metadata": {},
   "source": [
    "https://papers.ssrn.com/sol3/papers.cfm?abstract_id=3974773"
   ]
  },
  {
   "cell_type": "code",
   "execution_count": 100,
   "metadata": {},
   "outputs": [
    {
     "name": "stderr",
     "output_type": "stream",
     "text": [
      "c:\\Users\\FWX\\anaconda3\\Lib\\site-packages\\refinitiv\\data\\session\\platform.py:90: FutureWarning:\n",
      "\n",
      "\n",
      "You open a platform session using the default value of the signon_control parameter (signon_control=True).\n",
      "In future library version v2.0, this default will be changed to False.\n",
      "If you want to keep the same behavior as today, you will need to set the signon_control parameter to True either in the library configuration file\n",
      "({'sessions':{'platform':{'your_session_name':{'signon_control':true}}}}) or in your code where you create the Platform Session.\n",
      "These alternative options are already supported in the current version of the library.\n",
      "\n"
     ]
    }
   ],
   "source": [
    "session = rd.session.platform.Definition(\n",
    "    app_key= os.getenv('REFINITIV_APP_KEY'),\n",
    "    grant= rd.session.platform.GrantPassword(\n",
    "        username=os.getenv('REFINITIV_USERNAME'),password=os.getenv('REFINITIV_PASSWORD')\n",
    "    )\n",
    ").get_session()\n",
    "rd.session.set_default(session)"
   ]
  },
  {
   "cell_type": "code",
   "execution_count": 5,
   "metadata": {},
   "outputs": [],
   "source": [
    "session.open()\n",
    "thai_universe =rd.discovery.search(\n",
    "\tview = rd.discovery.Views.EQUITY_QUOTES,\n",
    "    top = 887,\n",
    "\tfilter = \"(AssetState ne 'DC' and IsPrimaryRIC eq true and SearchAllCategoryv2 eq 'Equities' and (RCSAssetCategoryGenealogy in ('A:1L') and ExchangeName xeq 'The Stock Exchange of Thailand' and RCSCurrency xeq 'C:W'))\",\n",
    "\tselect = \"DTSubjectName,ExchangeName,RIC\"\n",
    ")"
   ]
  },
  {
   "cell_type": "code",
   "execution_count": 6,
   "metadata": {},
   "outputs": [],
   "source": [
    "list_thai_u = thai_universe['RIC'].tolist()\n",
    "start_date = \"2014-01-01\"\n",
    "end_date = \"2024-01-01\""
   ]
  },
  {
   "cell_type": "code",
   "execution_count": 7,
   "metadata": {},
   "outputs": [
    {
     "name": "stderr",
     "output_type": "stream",
     "text": [
      "c:\\Users\\FWX\\anaconda3\\Lib\\site-packages\\refinitiv\\data\\_access_layer\\session.py:71:FutureWarning: \n",
      "You open a platform session using the default value of the signon_control parameter (signon_control=True).\n",
      "In future library version v2.0, this default will be changed to False.\n",
      "If you want to keep the same behavior as today, you will need to set the signon_control parameter to True either in the library configuration file\n",
      "({'sessions':{'platform':{'your_session_name':{'signon_control':true}}}}) or in your code where you create the Platform Session.\n",
      "These alternative options are already supported in the current version of the library.\n",
      "c:\\Users\\FWX\\anaconda3\\Lib\\site-packages\\pandas\\core\\dtypes\\cast.py:1079:RuntimeWarning: invalid value encountered in cast\n",
      "c:\\Users\\FWX\\anaconda3\\Lib\\site-packages\\pandas\\core\\dtypes\\cast.py:1104:RuntimeWarning: invalid value encountered in cast\n",
      "c:\\Users\\FWX\\anaconda3\\Lib\\site-packages\\pandas\\core\\dtypes\\cast.py:1079:RuntimeWarning: invalid value encountered in cast\n",
      "c:\\Users\\FWX\\anaconda3\\Lib\\site-packages\\pandas\\core\\dtypes\\cast.py:1104:RuntimeWarning: invalid value encountered in cast\n"
     ]
    }
   ],
   "source": [
    "rd.open_session()\n",
    "df = rd.get_history(\n",
    "          universe = list_thai_u,\n",
    "          fields = [          \n",
    "               'TR.CO2EmissionTotal',\n",
    "               'TR.F.EV',\n",
    "               'TR.F.EBITDA'\n",
    "          ], \n",
    "          start=start_date,\n",
    "          end=end_date\n",
    ")"
   ]
  },
  {
   "cell_type": "code",
   "execution_count": 8,
   "metadata": {},
   "outputs": [],
   "source": [
    "def reset_index_to_year(date:datetime.datetime)->int:\n",
    "    return date.year"
   ]
  },
  {
   "cell_type": "code",
   "execution_count": 19,
   "metadata": {},
   "outputs": [],
   "source": [
    "df_dict = dict()\n",
    "for ticker in list_thai_u:\n",
    "    if len(df[ticker].dropna())!=0:\n",
    "        df_dict[ticker] = df[ticker].dropna().set_index([pd.Index(df[ticker].dropna().reset_index()['Date'].apply(reset_index_to_year).tolist())])"
   ]
  },
  {
   "cell_type": "code",
   "execution_count": 31,
   "metadata": {},
   "outputs": [],
   "source": [
    "df_dict_optimize = dict()\n",
    "for i in df_dict:\n",
    "    df_dict_optimize[i] = pd.DataFrame(data={'EBITDA/EV':(df_dict[i]['Earnings before Interest Taxes Depreciation & Amortization']/df_dict[i]['Enterprise Value']).tolist(),\n",
    "                                        'CO2/EV':(df_dict[i]['CO2 Equivalent Emissions Total']/df_dict[i]['Enterprise Value']).tolist()},index = df_dict[i].index.tolist())"
   ]
  },
  {
   "cell_type": "code",
   "execution_count": 90,
   "metadata": {},
   "outputs": [],
   "source": [
    "y = 2017\n",
    "Df_dict = dict()\n",
    "for i in df_dict_optimize:\n",
    "    if y in df_dict_optimize[i].index:\n",
    "        Df_dict[i] = df_dict_optimize[i]"
   ]
  },
  {
   "cell_type": "markdown",
   "metadata": {},
   "source": [
    "$$\\begin{aligned}\n",
    "\t        \\max_W \\quad         & \\cfrac{\\textbf{EBITDA}}{\\textbf{EV}}W^\\top,\\\\\n",
    "\t        \\textrm{subject to} \\quad   & \\cfrac{\\textbf{CO2}}{\\textbf{EV}}W^\\top&\\leq& \\textbf{CO2budget},\\\\\n",
    "\t\t\t& w_i &\\geq& 0 \\\\\n",
    "\t        \\textrm{and} \\quad          & W^\\top\\textbf{1}&=&1.\n",
    "\t\\end{aligned}$$"
   ]
  },
  {
   "cell_type": "code",
   "execution_count": 91,
   "metadata": {},
   "outputs": [],
   "source": [
    "EBITDA = np.array([Df_dict[i]['EBITDA/EV'][y] for i in Df_dict])\n",
    "CO = np.array([Df_dict[i]['CO2/EV'][y] for i in Df_dict])"
   ]
  },
  {
   "cell_type": "code",
   "execution_count": 102,
   "metadata": {},
   "outputs": [
    {
     "name": "stderr",
     "output_type": "stream",
     "text": [
      "c:\\Users\\FWX\\anaconda3\\Lib\\site-packages\\cvxpy\\reductions\\solvers\\solving_chain.py:336: FutureWarning:\n",
      "\n",
      "\n",
      "    Your problem is being solved with the ECOS solver by default. Starting in \n",
      "    CVXPY 1.5.0, Clarabel will be used as the default solver instead. To continue \n",
      "    using ECOS, specify the ECOS solver explicitly using the ``solver=cp.ECOS`` \n",
      "    argument to the ``problem.solve`` method.\n",
      "    \n",
      "\n"
     ]
    }
   ],
   "source": [
    "#create the decision variable x with lenth equals the length of mu\n",
    "W = cp.Variable(len(EBITDA))\n",
    "#define the required return (3 percent per month in this example)\n",
    "r = 0.03\n",
    "\n",
    "#define the objective function\n",
    "Portfolio_Risk = EBITDA@W.T\n",
    "Objective = cp.Maximize(Portfolio_Risk)\n",
    "\n",
    "#define constraints\n",
    "Co2_bud = CO@W.T\n",
    "Co2_budget = 10**-3\n",
    "Constraints = [Co2_bud <= Co2_budget,W>=0,sum(W)==1]\n",
    "\n",
    "#solve the optimization problem\n",
    "cp.Problem(Objective, Constraints).solve()\n",
    "\n",
    "#extract the optimal portfolio\n",
    "optimal_Portfolio = W.value"
   ]
  },
  {
   "cell_type": "code",
   "execution_count": 104,
   "metadata": {},
   "outputs": [
    {
     "name": "stdout",
     "output_type": "stream",
     "text": [
      "7.55362376055154e-11\n",
      "8.642578032827607e-11\n",
      "8.35206117689627e-11\n",
      "8.419578691412314e-11\n",
      "8.6661275822126e-11\n",
      "0.999999997859397\n",
      "8.46244847273083e-11\n",
      "7.35652182960892e-11\n",
      "7.380930980578698e-11\n",
      "8.886168600742783e-11\n",
      "7.563138740619719e-11\n",
      "8.432469870702987e-11\n",
      "9.132366211535779e-11\n",
      "7.652025541349546e-11\n",
      "7.19866596960851e-11\n",
      "8.231381574671048e-11\n",
      "8.724154534035217e-11\n",
      "7.671057694509638e-11\n",
      "7.394746446765082e-11\n",
      "6.901977993321283e-11\n",
      "5.683525661992096e-11\n",
      "7.696922518257444e-11\n",
      "6.815688538915219e-11\n",
      "7.319529506898774e-11\n",
      "7.792958313921125e-11\n",
      "8.805406041697614e-11\n",
      "8.19909996836052e-11\n",
      "9.125793930855581e-11\n"
     ]
    }
   ],
   "source": [
    "for i in optimal_Portfolio:\n",
    "    print(i)"
   ]
  }
 ],
 "metadata": {
  "kernelspec": {
   "display_name": "base",
   "language": "python",
   "name": "python3"
  },
  "language_info": {
   "codemirror_mode": {
    "name": "ipython",
    "version": 3
   },
   "file_extension": ".py",
   "mimetype": "text/x-python",
   "name": "python",
   "nbconvert_exporter": "python",
   "pygments_lexer": "ipython3",
   "version": "3.11.5"
  }
 },
 "nbformat": 4,
 "nbformat_minor": 2
}
